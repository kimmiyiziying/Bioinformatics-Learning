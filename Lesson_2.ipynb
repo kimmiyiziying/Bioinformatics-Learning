{
  "nbformat": 4,
  "nbformat_minor": 0,
  "metadata": {
    "colab": {
      "name": "Lesson 2.ipynb",
      "provenance": [],
      "authorship_tag": "ABX9TyN2UCa14xAByeOBaAFNf1NH",
      "include_colab_link": true
    },
    "kernelspec": {
      "name": "python3",
      "display_name": "Python 3"
    },
    "language_info": {
      "name": "python"
    }
  },
  "cells": [
    {
      "cell_type": "markdown",
      "metadata": {
        "id": "view-in-github",
        "colab_type": "text"
      },
      "source": [
        "<a href=\"https://colab.research.google.com/github/kimmiyiziying/Bioinformatics-Learning/blob/lessons/Lesson_2.ipynb\" target=\"_parent\"><img src=\"https://colab.research.google.com/assets/colab-badge.svg\" alt=\"Open In Colab\"/></a>"
      ]
    },
    {
      "cell_type": "markdown",
      "source": [
        "##Computational Drug Discovery\n"
      ],
      "metadata": {
        "id": "NufRCro0zh4k"
      }
    },
    {
      "cell_type": "code",
      "source": [
        ""
      ],
      "metadata": {
        "id": "Po53O6auzlWs"
      },
      "execution_count": null,
      "outputs": []
    }
  ]
}